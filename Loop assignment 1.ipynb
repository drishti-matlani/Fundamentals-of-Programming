{
 "cells": [
  {
   "cell_type": "code",
   "execution_count": 1,
   "id": "0854d348-4635-42f5-9286-f9b04cddd962",
   "metadata": {},
   "outputs": [
    {
     "name": "stdout",
     "output_type": "stream",
     "text": [
      "The sum of the first five natural numbers is: 15\n"
     ]
    }
   ],
   "source": [
    "#LOOP ASSIGNMENT\n",
    "#1 WAP to find the sum of first 5 natural numbers[1,2,3,4,5]\n",
    "\n",
    "sum_of_numbers = 0\n",
    "\n",
    "for i in range(1, 6):\n",
    "    sum_of_numbers += i  \n",
    "\n",
    "print(\"The sum of the first five natural numbers is:\", sum_of_numbers)\n"
   ]
  },
  {
   "cell_type": "code",
   "execution_count": 3,
   "id": "82af021c-6a6d-4902-90a2-a33615eeaf17",
   "metadata": {},
   "outputs": [
    {
     "name": "stdout",
     "output_type": "stream",
     "text": [
      "Even numbers count: 5\n",
      "Odd numbers count: 5\n"
     ]
    }
   ],
   "source": [
    "#2 Count Even and odd numners in a list\n",
    "\n",
    "numbers = [1, 2, 3, 4, 5, 6, 7, 8, 9, 10]\n",
    "\n",
    "even_count = 0\n",
    "odd_count = 0\n",
    "\n",
    "for number in numbers:\n",
    "    if number % 2 == 0:\n",
    "        even_count += 1  \n",
    "    else:\n",
    "        odd_count += 1   \n",
    "\n",
    "\n",
    "print(\"Even numbers count:\", even_count)\n",
    "print(\"Odd numbers count:\", odd_count)\n"
   ]
  },
  {
   "cell_type": "code",
   "execution_count": 5,
   "id": "ec11ebde-a558-46e0-8360-dfbd7ded3349",
   "metadata": {},
   "outputs": [
    {
     "name": "stdout",
     "output_type": "stream",
     "text": [
      "10\n",
      "9\n",
      "8\n",
      "7\n",
      "6\n",
      "5\n",
      "4\n",
      "3\n",
      "2\n",
      "1\n"
     ]
    }
   ],
   "source": [
    "#3 WAP to print numbers from 10 to 1 using a for loop\n",
    "for list in range(10, 0, -1):\n",
    "    print(list)\n"
   ]
  },
  {
   "cell_type": "code",
   "execution_count": 7,
   "id": "4893bf8c-5465-408d-84ac-c05394bf2e05",
   "metadata": {},
   "outputs": [
    {
     "name": "stdout",
     "output_type": "stream",
     "text": [
      "Number of vowels in the string: 7\n"
     ]
    }
   ],
   "source": [
    "#4 WAP to count the number of vowels in  a string using a for loop\n",
    "\n",
    "input_string = \"Hello, how are you?\"\n",
    "\n",
    "vowel_count = 0\n",
    "\n",
    "vowels = \"aeiouAEIOU\"\n",
    "\n",
    "for character in input_string:\n",
    "    if character in vowels:  \n",
    "        vowel_count += 1  \n",
    "\n",
    "print(\"Number of vowels in the string:\", vowel_count)\n"
   ]
  },
  {
   "cell_type": "code",
   "execution_count": 9,
   "id": "74e40454-beb8-42c9-abec-09e5d76cd9f7",
   "metadata": {},
   "outputs": [
    {
     "name": "stdout",
     "output_type": "stream",
     "text": [
      "The smallest number in the list is: 1\n"
     ]
    }
   ],
   "source": [
    "#5 WAP to find the smallest number in a list using a for loop \n",
    "\n",
    "numbers = [34, 2, 67, 89, 12, 5, 1]\n",
    "\n",
    "smallest_number = numbers[0]\n",
    "\n",
    "for number in numbers:\n",
    "    if number < smallest_number:\n",
    "        smallest_number = number  \n",
    "\n",
    "print(\"The smallest number in the list is:\", smallest_number)\n"
   ]
  },
  {
   "cell_type": "code",
   "execution_count": null,
   "id": "10795b8a-b3dd-4134-a849-8645bd1d099a",
   "metadata": {},
   "outputs": [],
   "source": []
  }
 ],
 "metadata": {
  "kernelspec": {
   "display_name": "Python 3 (ipykernel)",
   "language": "python",
   "name": "python3"
  },
  "language_info": {
   "codemirror_mode": {
    "name": "ipython",
    "version": 3
   },
   "file_extension": ".py",
   "mimetype": "text/x-python",
   "name": "python",
   "nbconvert_exporter": "python",
   "pygments_lexer": "ipython3",
   "version": "3.12.4"
  }
 },
 "nbformat": 4,
 "nbformat_minor": 5
}
